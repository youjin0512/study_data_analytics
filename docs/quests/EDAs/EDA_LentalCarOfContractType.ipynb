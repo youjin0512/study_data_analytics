{
  "nbformat": 4,
  "nbformat_minor": 0,
  "metadata": {
    "colab": {
      "provenance": [],
      "authorship_tag": "ABX9TyN6HdcCSKQ1yg3EThlfjUxe",
      "include_colab_link": true
    },
    "kernelspec": {
      "name": "python3",
      "display_name": "Python 3"
    },
    "language_info": {
      "name": "python"
    }
  },
  "cells": [
    {
      "cell_type": "markdown",
      "metadata": {
        "id": "view-in-github",
        "colab_type": "text"
      },
      "source": [
        "<a href=\"https://colab.research.google.com/github/youjin0512/study_data_analytics/blob/main/docs/quests/EDAs/EDA_LentalCarOfContractType.ipynb\" target=\"_parent\"><img src=\"https://colab.research.google.com/assets/colab-badge.svg\" alt=\"Open In Colab\"/></a>"
      ]
    },
    {
      "cell_type": "markdown",
      "source": [
        "## EDA(탐색 데이터 분석(Exploratory Data Analysis)) 각 과정에서 insight 도출\n",
        "- 제안 1: 고객 충성도 예측\n",
        "  - 문제 정의: 고객의 계약 유형, 연체 기록, 신용 등급, 마일리지 등을 바탕으로 고객의 충성도(예: 장기 계약 유지 여부)를 예측합니다.\n",
        "  - 배경: 충성도 높은 고객을 식별하여 타겟 마케팅 전략을 수립하고, 서비스 개선을 통해 고객 유지율을 높일 수 있습니다.\n"
      ],
      "metadata": {
        "id": "UNdVaknyo1We"
      }
    },
    {
      "cell_type": "code",
      "execution_count": 1,
      "metadata": {
        "id": "VTuteCL_nd7i"
      },
      "outputs": [],
      "source": [
        "import pandas as pd"
      ]
    },
    {
      "cell_type": "code",
      "source": [
        "df_LC = pd.read_csv('LentalCarOfContractType.csv')\n",
        "df_LC.dropna(inplace=True)\n",
        "df_LC.info()"
      ],
      "metadata": {
        "colab": {
          "base_uri": "https://localhost:8080/"
        },
        "id": "kNBbAao_nzaR",
        "outputId": "1c12214a-cbd7-4e85-b82f-77797d01d0b5"
      },
      "execution_count": 3,
      "outputs": [
        {
          "output_type": "stream",
          "name": "stdout",
          "text": [
            "<class 'pandas.core.frame.DataFrame'>\n",
            "Int64Index: 40480 entries, 0 to 51303\n",
            "Data columns (total 17 columns):\n",
            " #   Column             Non-Null Count  Dtype  \n",
            "---  ------             --------------  -----  \n",
            " 0   id                 40480 non-null  int64  \n",
            " 1   type_of_contract   40480 non-null  object \n",
            " 2   type_of_contract2  40480 non-null  object \n",
            " 3   channel            40480 non-null  object \n",
            " 4   datetime           40480 non-null  object \n",
            " 5   Term               40480 non-null  int64  \n",
            " 6   payment_type       40480 non-null  object \n",
            " 7   product            40480 non-null  object \n",
            " 8   amount             40480 non-null  int64  \n",
            " 9   state              40480 non-null  object \n",
            " 10  overdue_count      40480 non-null  int64  \n",
            " 11  overdue            40480 non-null  object \n",
            " 12  credit rating      40480 non-null  float64\n",
            " 13  bank               40480 non-null  object \n",
            " 14  cancellation       40480 non-null  object \n",
            " 15  age                40480 non-null  float64\n",
            " 16  Mileage            40480 non-null  float64\n",
            "dtypes: float64(3), int64(4), object(10)\n",
            "memory usage: 5.6+ MB\n"
          ]
        }
      ]
    },
    {
      "cell_type": "markdown",
      "source": [
        "### 기술 데이터 분석(DDA)"
      ],
      "metadata": {
        "id": "wzKvgC8MpPSf"
      }
    },
    {
      "cell_type": "code",
      "source": [
        "# 계약 유형 분포(범주형) 확인\n",
        "df_LC['type_of_contract'].value_counts()\n",
        "# # 대부분 고객은 렌탈 계약 유형을 선택\n",
        "# 인사이트 : 렌탈 계약 유형에 대한 고객 선호도가 높음 반영, 마케팅 및 프로모션 전략 고려 할 필요 있음."
      ],
      "metadata": {
        "colab": {
          "base_uri": "https://localhost:8080/"
        },
        "id": "OPDdm27QoFzd",
        "outputId": "c82bf9e4-75ed-4616-ab2b-3c49eb2b9ef2"
      },
      "execution_count": 5,
      "outputs": [
        {
          "output_type": "execute_result",
          "data": {
            "text/plain": [
              "렌탈     38445\n",
              "멤버십     2035\n",
              "Name: type_of_contract, dtype: int64"
            ]
          },
          "metadata": {},
          "execution_count": 5
        }
      ]
    },
    {
      "cell_type": "code",
      "source": [
        "# 연체 여부 분포 확인\n",
        "df_LC['overdue'].value_counts()\n",
        "# 연체자 수 39019명"
      ],
      "metadata": {
        "colab": {
          "base_uri": "https://localhost:8080/"
        },
        "id": "4DDcPOoDwoNN",
        "outputId": "30c5aaac-8ce6-4497-999e-ffc2df9e3474"
      },
      "execution_count": 6,
      "outputs": [
        {
          "output_type": "execute_result",
          "data": {
            "text/plain": [
              "없음    39019\n",
              "있음     1461\n",
              "Name: overdue, dtype: int64"
            ]
          },
          "metadata": {},
          "execution_count": 6
        }
      ]
    },
    {
      "cell_type": "code",
      "source": [
        "# 연체 횟수 분포 확인\n",
        "df_LC['overdue_count'].value_counts()\n",
        "# 연체 횟수 0번 : 39007명, 주로 1~2회 연체 한 사람의 분포가 가장 크다.\n",
        "# 인사이트 : 납부 연체한 고객에게 연체로 인한 위약금 발생 LMS 발송 및 연체금 납부를 위한 스팟성 프로모션 제고"
      ],
      "metadata": {
        "colab": {
          "base_uri": "https://localhost:8080/"
        },
        "id": "rNWJk2_RpiQf",
        "outputId": "e40e0a8c-7e39-43a1-ecb8-ed9b4948be23"
      },
      "execution_count": 7,
      "outputs": [
        {
          "output_type": "execute_result",
          "data": {
            "text/plain": [
              " 0     39007\n",
              " 1       589\n",
              " 2       269\n",
              " 3       101\n",
              " 12       87\n",
              " 4        78\n",
              " 10       54\n",
              " 5        52\n",
              " 7        44\n",
              " 8        41\n",
              " 11       37\n",
              " 9        34\n",
              " 14       31\n",
              " 13       30\n",
              "-1        12\n",
              " 15       10\n",
              " 6         4\n",
              "Name: overdue_count, dtype: int64"
            ]
          },
          "metadata": {},
          "execution_count": 7
        }
      ]
    },
    {
      "cell_type": "code",
      "source": [
        "df_LC[df_LC['overdue_count']== -1]['id']"
      ],
      "metadata": {
        "colab": {
          "base_uri": "https://localhost:8080/"
        },
        "id": "c0Xg7a8v6qjE",
        "outputId": "46ef8341-54e6-459e-9b8d-aca69ace04e5"
      },
      "execution_count": 8,
      "outputs": [
        {
          "output_type": "execute_result",
          "data": {
            "text/plain": [
              "1789     66760179\n",
              "1795     66674030\n",
              "1859     66757586\n",
              "1901     66759913\n",
              "1917     66759602\n",
              "1920     66757694\n",
              "25619    66699954\n",
              "25637    66776702\n",
              "25638    66428737\n",
              "25677    66777727\n",
              "25684    66772964\n",
              "25686    66776547\n",
              "Name: id, dtype: int64"
            ]
          },
          "metadata": {},
          "execution_count": 8
        }
      ]
    },
    {
      "cell_type": "code",
      "source": [
        "# overdue_count(연체횟수) -1을 0으로 치환 (연체횟수에는 -1이 없고, -1로 표기된것 모두 연체이력이 없는것으로 확인됨)\n",
        "df_LC['overdue_count'].describe().loc[]"
      ],
      "metadata": {
        "id": "HUhLpcnH9xGU",
        "colab": {
          "base_uri": "https://localhost:8080/",
          "height": 147
        },
        "outputId": "9f341d5f-fe6b-4bb5-96a1-78fa6e3c576a"
      },
      "execution_count": 10,
      "outputs": [
        {
          "output_type": "error",
          "ename": "SyntaxError",
          "evalue": "invalid syntax (<ipython-input-10-91c242392cae>, line 2)",
          "traceback": [
            "\u001b[0;36m  File \u001b[0;32m\"<ipython-input-10-91c242392cae>\"\u001b[0;36m, line \u001b[0;32m2\u001b[0m\n\u001b[0;31m    df_LC['overdue_count'].describe().loc[]\u001b[0m\n\u001b[0m                                          ^\u001b[0m\n\u001b[0;31mSyntaxError\u001b[0m\u001b[0;31m:\u001b[0m invalid syntax\n"
          ]
        }
      ]
    },
    {
      "cell_type": "code",
      "source": [
        "df_LC['overdue_count'].describe()"
      ],
      "metadata": {
        "colab": {
          "base_uri": "https://localhost:8080/"
        },
        "id": "jkaEZIb9v5FO",
        "outputId": "89a6b756-18db-4466-de9c-cb0465a279ad"
      },
      "execution_count": 11,
      "outputs": [
        {
          "output_type": "execute_result",
          "data": {
            "text/plain": [
              "count    40480.00000\n",
              "mean         0.14627\n",
              "std          1.08607\n",
              "min         -1.00000\n",
              "25%          0.00000\n",
              "50%          0.00000\n",
              "75%          0.00000\n",
              "max         15.00000\n",
              "Name: overdue_count, dtype: float64"
            ]
          },
          "metadata": {},
          "execution_count": 11
        }
      ]
    },
    {
      "cell_type": "code",
      "source": [
        "# 신용 등급 분포 확인\n",
        "df_LC['credit rating'].value_counts()\n",
        "# 가장 우수한 1등급의 회원이 가장 많고, 2등급부터 밑으로 내려갈수록 회원의 숫자가 줄어드는 형세다."
      ],
      "metadata": {
        "colab": {
          "base_uri": "https://localhost:8080/"
        },
        "id": "cM6F5iF0wWMN",
        "outputId": "331a0818-94c2-4a70-a919-09a61e45ec17"
      },
      "execution_count": 12,
      "outputs": [
        {
          "output_type": "execute_result",
          "data": {
            "text/plain": [
              "1.0     10245\n",
              "2.0      7811\n",
              "4.0      5137\n",
              "3.0      4777\n",
              "5.0      4116\n",
              "6.0      3624\n",
              "7.0      2589\n",
              "8.0      1466\n",
              "9.0       610\n",
              "0.0        60\n",
              "10.0       45\n",
              "Name: credit rating, dtype: int64"
            ]
          },
          "metadata": {},
          "execution_count": 12
        }
      ]
    },
    {
      "cell_type": "code",
      "source": [
        "# 신용등급 1등급일때 연체횟수 분포 확인\n",
        "df_LC[df_LC['credit rating'] == 1] ['overdue_count']\n",
        "# 신용등급 1등급인 경우의 연체 횟수는 0회\n",
        "# 인사이트 : 신용등급이 좋을수록 연체 횟수는 0에 가깝다."
      ],
      "metadata": {
        "colab": {
          "base_uri": "https://localhost:8080/"
        },
        "id": "0egTjSuKzCJ1",
        "outputId": "0a15d12a-b209-42f6-8cc7-a93b54cd2618"
      },
      "execution_count": 13,
      "outputs": [
        {
          "output_type": "execute_result",
          "data": {
            "text/plain": [
              "6        0\n",
              "9        0\n",
              "10       0\n",
              "11       0\n",
              "13       0\n",
              "        ..\n",
              "51283    0\n",
              "51286    0\n",
              "51290    0\n",
              "51292    0\n",
              "51295    0\n",
              "Name: overdue_count, Length: 10245, dtype: int64"
            ]
          },
          "metadata": {},
          "execution_count": 13
        }
      ]
    },
    {
      "cell_type": "code",
      "source": [
        "overdue_df = df_LC[df_LC['overdue_count'] == 1]"
      ],
      "metadata": {
        "id": "TyjG257b2oVM"
      },
      "execution_count": 14,
      "outputs": []
    },
    {
      "cell_type": "code",
      "source": [
        "# 연체 횟수 1회인 회원id별 신용등급\n",
        "credit_rating_overdue_table = overdue_df[['id', 'credit rating']]\n",
        "credit_rating_overdue_table"
      ],
      "metadata": {
        "colab": {
          "base_uri": "https://localhost:8080/",
          "height": 424
        },
        "id": "vNuTYlGG2xZ0",
        "outputId": "8f82f192-f8d3-4b95-bcb1-15babe7fe185"
      },
      "execution_count": 15,
      "outputs": [
        {
          "output_type": "execute_result",
          "data": {
            "text/plain": [
              "             id  credit rating\n",
              "79     66747865            1.0\n",
              "270    66758670            8.0\n",
              "271    66758670            8.0\n",
              "313    66755905            5.0\n",
              "458    66756495            4.0\n",
              "...         ...            ...\n",
              "50786  66796573            5.0\n",
              "50849  66796464            5.0\n",
              "51004  66798075            6.0\n",
              "51074  66799452            6.0\n",
              "51217  66799372            9.0\n",
              "\n",
              "[589 rows x 2 columns]"
            ],
            "text/html": [
              "\n",
              "  <div id=\"df-72b53e17-c426-412f-ac72-0e4c949cc2d8\" class=\"colab-df-container\">\n",
              "    <div>\n",
              "<style scoped>\n",
              "    .dataframe tbody tr th:only-of-type {\n",
              "        vertical-align: middle;\n",
              "    }\n",
              "\n",
              "    .dataframe tbody tr th {\n",
              "        vertical-align: top;\n",
              "    }\n",
              "\n",
              "    .dataframe thead th {\n",
              "        text-align: right;\n",
              "    }\n",
              "</style>\n",
              "<table border=\"1\" class=\"dataframe\">\n",
              "  <thead>\n",
              "    <tr style=\"text-align: right;\">\n",
              "      <th></th>\n",
              "      <th>id</th>\n",
              "      <th>credit rating</th>\n",
              "    </tr>\n",
              "  </thead>\n",
              "  <tbody>\n",
              "    <tr>\n",
              "      <th>79</th>\n",
              "      <td>66747865</td>\n",
              "      <td>1.0</td>\n",
              "    </tr>\n",
              "    <tr>\n",
              "      <th>270</th>\n",
              "      <td>66758670</td>\n",
              "      <td>8.0</td>\n",
              "    </tr>\n",
              "    <tr>\n",
              "      <th>271</th>\n",
              "      <td>66758670</td>\n",
              "      <td>8.0</td>\n",
              "    </tr>\n",
              "    <tr>\n",
              "      <th>313</th>\n",
              "      <td>66755905</td>\n",
              "      <td>5.0</td>\n",
              "    </tr>\n",
              "    <tr>\n",
              "      <th>458</th>\n",
              "      <td>66756495</td>\n",
              "      <td>4.0</td>\n",
              "    </tr>\n",
              "    <tr>\n",
              "      <th>...</th>\n",
              "      <td>...</td>\n",
              "      <td>...</td>\n",
              "    </tr>\n",
              "    <tr>\n",
              "      <th>50786</th>\n",
              "      <td>66796573</td>\n",
              "      <td>5.0</td>\n",
              "    </tr>\n",
              "    <tr>\n",
              "      <th>50849</th>\n",
              "      <td>66796464</td>\n",
              "      <td>5.0</td>\n",
              "    </tr>\n",
              "    <tr>\n",
              "      <th>51004</th>\n",
              "      <td>66798075</td>\n",
              "      <td>6.0</td>\n",
              "    </tr>\n",
              "    <tr>\n",
              "      <th>51074</th>\n",
              "      <td>66799452</td>\n",
              "      <td>6.0</td>\n",
              "    </tr>\n",
              "    <tr>\n",
              "      <th>51217</th>\n",
              "      <td>66799372</td>\n",
              "      <td>9.0</td>\n",
              "    </tr>\n",
              "  </tbody>\n",
              "</table>\n",
              "<p>589 rows × 2 columns</p>\n",
              "</div>\n",
              "    <div class=\"colab-df-buttons\">\n",
              "\n",
              "  <div class=\"colab-df-container\">\n",
              "    <button class=\"colab-df-convert\" onclick=\"convertToInteractive('df-72b53e17-c426-412f-ac72-0e4c949cc2d8')\"\n",
              "            title=\"Convert this dataframe to an interactive table.\"\n",
              "            style=\"display:none;\">\n",
              "\n",
              "  <svg xmlns=\"http://www.w3.org/2000/svg\" height=\"24px\" viewBox=\"0 -960 960 960\">\n",
              "    <path d=\"M120-120v-720h720v720H120Zm60-500h600v-160H180v160Zm220 220h160v-160H400v160Zm0 220h160v-160H400v160ZM180-400h160v-160H180v160Zm440 0h160v-160H620v160ZM180-180h160v-160H180v160Zm440 0h160v-160H620v160Z\"/>\n",
              "  </svg>\n",
              "    </button>\n",
              "\n",
              "  <style>\n",
              "    .colab-df-container {\n",
              "      display:flex;\n",
              "      gap: 12px;\n",
              "    }\n",
              "\n",
              "    .colab-df-convert {\n",
              "      background-color: #E8F0FE;\n",
              "      border: none;\n",
              "      border-radius: 50%;\n",
              "      cursor: pointer;\n",
              "      display: none;\n",
              "      fill: #1967D2;\n",
              "      height: 32px;\n",
              "      padding: 0 0 0 0;\n",
              "      width: 32px;\n",
              "    }\n",
              "\n",
              "    .colab-df-convert:hover {\n",
              "      background-color: #E2EBFA;\n",
              "      box-shadow: 0px 1px 2px rgba(60, 64, 67, 0.3), 0px 1px 3px 1px rgba(60, 64, 67, 0.15);\n",
              "      fill: #174EA6;\n",
              "    }\n",
              "\n",
              "    .colab-df-buttons div {\n",
              "      margin-bottom: 4px;\n",
              "    }\n",
              "\n",
              "    [theme=dark] .colab-df-convert {\n",
              "      background-color: #3B4455;\n",
              "      fill: #D2E3FC;\n",
              "    }\n",
              "\n",
              "    [theme=dark] .colab-df-convert:hover {\n",
              "      background-color: #434B5C;\n",
              "      box-shadow: 0px 1px 3px 1px rgba(0, 0, 0, 0.15);\n",
              "      filter: drop-shadow(0px 1px 2px rgba(0, 0, 0, 0.3));\n",
              "      fill: #FFFFFF;\n",
              "    }\n",
              "  </style>\n",
              "\n",
              "    <script>\n",
              "      const buttonEl =\n",
              "        document.querySelector('#df-72b53e17-c426-412f-ac72-0e4c949cc2d8 button.colab-df-convert');\n",
              "      buttonEl.style.display =\n",
              "        google.colab.kernel.accessAllowed ? 'block' : 'none';\n",
              "\n",
              "      async function convertToInteractive(key) {\n",
              "        const element = document.querySelector('#df-72b53e17-c426-412f-ac72-0e4c949cc2d8');\n",
              "        const dataTable =\n",
              "          await google.colab.kernel.invokeFunction('convertToInteractive',\n",
              "                                                    [key], {});\n",
              "        if (!dataTable) return;\n",
              "\n",
              "        const docLinkHtml = 'Like what you see? Visit the ' +\n",
              "          '<a target=\"_blank\" href=https://colab.research.google.com/notebooks/data_table.ipynb>data table notebook</a>'\n",
              "          + ' to learn more about interactive tables.';\n",
              "        element.innerHTML = '';\n",
              "        dataTable['output_type'] = 'display_data';\n",
              "        await google.colab.output.renderOutput(dataTable, element);\n",
              "        const docLink = document.createElement('div');\n",
              "        docLink.innerHTML = docLinkHtml;\n",
              "        element.appendChild(docLink);\n",
              "      }\n",
              "    </script>\n",
              "  </div>\n",
              "\n",
              "\n",
              "<div id=\"df-6c33cb01-330c-4a7f-95bd-2e6338c4fadd\">\n",
              "  <button class=\"colab-df-quickchart\" onclick=\"quickchart('df-6c33cb01-330c-4a7f-95bd-2e6338c4fadd')\"\n",
              "            title=\"Suggest charts\"\n",
              "            style=\"display:none;\">\n",
              "\n",
              "<svg xmlns=\"http://www.w3.org/2000/svg\" height=\"24px\"viewBox=\"0 0 24 24\"\n",
              "     width=\"24px\">\n",
              "    <g>\n",
              "        <path d=\"M19 3H5c-1.1 0-2 .9-2 2v14c0 1.1.9 2 2 2h14c1.1 0 2-.9 2-2V5c0-1.1-.9-2-2-2zM9 17H7v-7h2v7zm4 0h-2V7h2v10zm4 0h-2v-4h2v4z\"/>\n",
              "    </g>\n",
              "</svg>\n",
              "  </button>\n",
              "\n",
              "<style>\n",
              "  .colab-df-quickchart {\n",
              "      --bg-color: #E8F0FE;\n",
              "      --fill-color: #1967D2;\n",
              "      --hover-bg-color: #E2EBFA;\n",
              "      --hover-fill-color: #174EA6;\n",
              "      --disabled-fill-color: #AAA;\n",
              "      --disabled-bg-color: #DDD;\n",
              "  }\n",
              "\n",
              "  [theme=dark] .colab-df-quickchart {\n",
              "      --bg-color: #3B4455;\n",
              "      --fill-color: #D2E3FC;\n",
              "      --hover-bg-color: #434B5C;\n",
              "      --hover-fill-color: #FFFFFF;\n",
              "      --disabled-bg-color: #3B4455;\n",
              "      --disabled-fill-color: #666;\n",
              "  }\n",
              "\n",
              "  .colab-df-quickchart {\n",
              "    background-color: var(--bg-color);\n",
              "    border: none;\n",
              "    border-radius: 50%;\n",
              "    cursor: pointer;\n",
              "    display: none;\n",
              "    fill: var(--fill-color);\n",
              "    height: 32px;\n",
              "    padding: 0;\n",
              "    width: 32px;\n",
              "  }\n",
              "\n",
              "  .colab-df-quickchart:hover {\n",
              "    background-color: var(--hover-bg-color);\n",
              "    box-shadow: 0 1px 2px rgba(60, 64, 67, 0.3), 0 1px 3px 1px rgba(60, 64, 67, 0.15);\n",
              "    fill: var(--button-hover-fill-color);\n",
              "  }\n",
              "\n",
              "  .colab-df-quickchart-complete:disabled,\n",
              "  .colab-df-quickchart-complete:disabled:hover {\n",
              "    background-color: var(--disabled-bg-color);\n",
              "    fill: var(--disabled-fill-color);\n",
              "    box-shadow: none;\n",
              "  }\n",
              "\n",
              "  .colab-df-spinner {\n",
              "    border: 2px solid var(--fill-color);\n",
              "    border-color: transparent;\n",
              "    border-bottom-color: var(--fill-color);\n",
              "    animation:\n",
              "      spin 1s steps(1) infinite;\n",
              "  }\n",
              "\n",
              "  @keyframes spin {\n",
              "    0% {\n",
              "      border-color: transparent;\n",
              "      border-bottom-color: var(--fill-color);\n",
              "      border-left-color: var(--fill-color);\n",
              "    }\n",
              "    20% {\n",
              "      border-color: transparent;\n",
              "      border-left-color: var(--fill-color);\n",
              "      border-top-color: var(--fill-color);\n",
              "    }\n",
              "    30% {\n",
              "      border-color: transparent;\n",
              "      border-left-color: var(--fill-color);\n",
              "      border-top-color: var(--fill-color);\n",
              "      border-right-color: var(--fill-color);\n",
              "    }\n",
              "    40% {\n",
              "      border-color: transparent;\n",
              "      border-right-color: var(--fill-color);\n",
              "      border-top-color: var(--fill-color);\n",
              "    }\n",
              "    60% {\n",
              "      border-color: transparent;\n",
              "      border-right-color: var(--fill-color);\n",
              "    }\n",
              "    80% {\n",
              "      border-color: transparent;\n",
              "      border-right-color: var(--fill-color);\n",
              "      border-bottom-color: var(--fill-color);\n",
              "    }\n",
              "    90% {\n",
              "      border-color: transparent;\n",
              "      border-bottom-color: var(--fill-color);\n",
              "    }\n",
              "  }\n",
              "</style>\n",
              "\n",
              "  <script>\n",
              "    async function quickchart(key) {\n",
              "      const quickchartButtonEl =\n",
              "        document.querySelector('#' + key + ' button');\n",
              "      quickchartButtonEl.disabled = true;  // To prevent multiple clicks.\n",
              "      quickchartButtonEl.classList.add('colab-df-spinner');\n",
              "      try {\n",
              "        const charts = await google.colab.kernel.invokeFunction(\n",
              "            'suggestCharts', [key], {});\n",
              "      } catch (error) {\n",
              "        console.error('Error during call to suggestCharts:', error);\n",
              "      }\n",
              "      quickchartButtonEl.classList.remove('colab-df-spinner');\n",
              "      quickchartButtonEl.classList.add('colab-df-quickchart-complete');\n",
              "    }\n",
              "    (() => {\n",
              "      let quickchartButtonEl =\n",
              "        document.querySelector('#df-6c33cb01-330c-4a7f-95bd-2e6338c4fadd button');\n",
              "      quickchartButtonEl.style.display =\n",
              "        google.colab.kernel.accessAllowed ? 'block' : 'none';\n",
              "    })();\n",
              "  </script>\n",
              "</div>\n",
              "\n",
              "  <div id=\"id_9fced38e-1a24-4aea-a9c1-8b9d398297d5\">\n",
              "    <style>\n",
              "      .colab-df-generate {\n",
              "        background-color: #E8F0FE;\n",
              "        border: none;\n",
              "        border-radius: 50%;\n",
              "        cursor: pointer;\n",
              "        display: none;\n",
              "        fill: #1967D2;\n",
              "        height: 32px;\n",
              "        padding: 0 0 0 0;\n",
              "        width: 32px;\n",
              "      }\n",
              "\n",
              "      .colab-df-generate:hover {\n",
              "        background-color: #E2EBFA;\n",
              "        box-shadow: 0px 1px 2px rgba(60, 64, 67, 0.3), 0px 1px 3px 1px rgba(60, 64, 67, 0.15);\n",
              "        fill: #174EA6;\n",
              "      }\n",
              "\n",
              "      [theme=dark] .colab-df-generate {\n",
              "        background-color: #3B4455;\n",
              "        fill: #D2E3FC;\n",
              "      }\n",
              "\n",
              "      [theme=dark] .colab-df-generate:hover {\n",
              "        background-color: #434B5C;\n",
              "        box-shadow: 0px 1px 3px 1px rgba(0, 0, 0, 0.15);\n",
              "        filter: drop-shadow(0px 1px 2px rgba(0, 0, 0, 0.3));\n",
              "        fill: #FFFFFF;\n",
              "      }\n",
              "    </style>\n",
              "    <button class=\"colab-df-generate\" onclick=\"generateWithVariable('credit_rating_overdue_table')\"\n",
              "            title=\"Generate code using this dataframe.\"\n",
              "            style=\"display:none;\">\n",
              "\n",
              "  <svg xmlns=\"http://www.w3.org/2000/svg\" height=\"24px\"viewBox=\"0 0 24 24\"\n",
              "       width=\"24px\">\n",
              "    <path d=\"M7,19H8.4L18.45,9,17,7.55,7,17.6ZM5,21V16.75L18.45,3.32a2,2,0,0,1,2.83,0l1.4,1.43a1.91,1.91,0,0,1,.58,1.4,1.91,1.91,0,0,1-.58,1.4L9.25,21ZM18.45,9,17,7.55Zm-12,3A5.31,5.31,0,0,0,4.9,8.1,5.31,5.31,0,0,0,1,6.5,5.31,5.31,0,0,0,4.9,4.9,5.31,5.31,0,0,0,6.5,1,5.31,5.31,0,0,0,8.1,4.9,5.31,5.31,0,0,0,12,6.5,5.46,5.46,0,0,0,6.5,12Z\"/>\n",
              "  </svg>\n",
              "    </button>\n",
              "    <script>\n",
              "      (() => {\n",
              "      const buttonEl =\n",
              "        document.querySelector('#id_9fced38e-1a24-4aea-a9c1-8b9d398297d5 button.colab-df-generate');\n",
              "      buttonEl.style.display =\n",
              "        google.colab.kernel.accessAllowed ? 'block' : 'none';\n",
              "\n",
              "      buttonEl.onclick = () => {\n",
              "        google.colab.notebook.generateWithVariable('credit_rating_overdue_table');\n",
              "      }\n",
              "      })();\n",
              "    </script>\n",
              "  </div>\n",
              "\n",
              "    </div>\n",
              "  </div>\n"
            ]
          },
          "metadata": {},
          "execution_count": 15
        }
      ]
    },
    {
      "cell_type": "code",
      "source": [
        "# 연체횟수가 1인 사람들의 신용등급\n",
        "df_LC[df_LC['overdue_count'] ==1]['credit rating']"
      ],
      "metadata": {
        "colab": {
          "base_uri": "https://localhost:8080/"
        },
        "id": "aY_jKGmy1ET8",
        "outputId": "847d2c5f-68fe-4110-9977-683d16c77d32"
      },
      "execution_count": 16,
      "outputs": [
        {
          "output_type": "execute_result",
          "data": {
            "text/plain": [
              "79       1.0\n",
              "270      8.0\n",
              "271      8.0\n",
              "313      5.0\n",
              "458      4.0\n",
              "        ... \n",
              "50786    5.0\n",
              "50849    5.0\n",
              "51004    6.0\n",
              "51074    6.0\n",
              "51217    9.0\n",
              "Name: credit rating, Length: 589, dtype: float64"
            ]
          },
          "metadata": {},
          "execution_count": 16
        }
      ]
    },
    {
      "cell_type": "code",
      "source": [],
      "metadata": {
        "id": "mbxHR8-F2HZM"
      },
      "execution_count": 16,
      "outputs": []
    }
  ]
}