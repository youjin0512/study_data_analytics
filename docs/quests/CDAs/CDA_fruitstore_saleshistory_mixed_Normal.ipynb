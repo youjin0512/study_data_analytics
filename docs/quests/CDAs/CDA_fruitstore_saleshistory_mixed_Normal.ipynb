{
  "nbformat": 4,
  "nbformat_minor": 0,
  "metadata": {
    "colab": {
      "provenance": [],
      "authorship_tag": "ABX9TyOptGMxumPAPQ7FLEhODBpD",
      "include_colab_link": true
    },
    "kernelspec": {
      "name": "python3",
      "display_name": "Python 3"
    },
    "language_info": {
      "name": "python"
    }
  },
  "cells": [
    {
      "cell_type": "markdown",
      "metadata": {
        "id": "view-in-github",
        "colab_type": "text"
      },
      "source": [
        "<a href=\"https://colab.research.google.com/github/youjin0512/study_data_analytics/blob/main/docs/quests/CDAs/CDA_fruitstore_saleshistory_mixed_Normal.ipynb\" target=\"_parent\"><img src=\"https://colab.research.google.com/assets/colab-badge.svg\" alt=\"Open In Colab\"/></a>"
      ]
    },
    {
      "cell_type": "markdown",
      "source": [
        "## 한글 폰트 설치"
      ],
      "metadata": {
        "id": "DxvmZfbQxz69"
      }
    },
    {
      "cell_type": "code",
      "source": [
        "# 한글 폰트 설치\n",
        "!apt-get install -y fonts-nanum\n",
        "!fc-cache -fv\n",
        "!rm ~/.cache/matplotlib -rf\n",
        "# 설치 후 colab 경우 Reuntime > Restart session 필요"
      ],
      "metadata": {
        "colab": {
          "base_uri": "https://localhost:8080/"
        },
        "id": "cBQj7CsUxwSF",
        "outputId": "becf14a6-9f3a-4ce2-85df-261960f01111"
      },
      "execution_count": 41,
      "outputs": [
        {
          "output_type": "stream",
          "name": "stdout",
          "text": [
            "Reading package lists... Done\n",
            "Building dependency tree... Done\n",
            "Reading state information... Done\n",
            "fonts-nanum is already the newest version (20200506-1).\n",
            "0 upgraded, 0 newly installed, 0 to remove and 32 not upgraded.\n",
            "/usr/share/fonts: caching, new cache contents: 0 fonts, 1 dirs\n",
            "/usr/share/fonts/truetype: caching, new cache contents: 0 fonts, 3 dirs\n",
            "/usr/share/fonts/truetype/humor-sans: caching, new cache contents: 1 fonts, 0 dirs\n",
            "/usr/share/fonts/truetype/liberation: caching, new cache contents: 16 fonts, 0 dirs\n",
            "/usr/share/fonts/truetype/nanum: caching, new cache contents: 12 fonts, 0 dirs\n",
            "/usr/local/share/fonts: caching, new cache contents: 0 fonts, 0 dirs\n",
            "/root/.local/share/fonts: skipping, no such directory\n",
            "/root/.fonts: skipping, no such directory\n",
            "/usr/share/fonts/truetype: skipping, looped directory detected\n",
            "/usr/share/fonts/truetype/humor-sans: skipping, looped directory detected\n",
            "/usr/share/fonts/truetype/liberation: skipping, looped directory detected\n",
            "/usr/share/fonts/truetype/nanum: skipping, looped directory detected\n",
            "/var/cache/fontconfig: cleaning cache directory\n",
            "/root/.cache/fontconfig: not cleaning non-existent cache directory\n",
            "/root/.fontconfig: not cleaning non-existent cache directory\n",
            "fc-cache: succeeded\n"
          ]
        }
      ]
    },
    {
      "cell_type": "markdown",
      "source": [
        "## matplotlib 시각화"
      ],
      "metadata": {
        "id": "3S5IMX-2yUdd"
      }
    },
    {
      "cell_type": "code",
      "source": [
        "import matplotlib.pyplot as plt\n",
        "import matplotlib as mpl\n",
        "import seaborn as sns\n",
        "mpl.rc('font', family='NanumBarunGothic') # 혹은 다른 설치한 Nanum 폰트 사용"
      ],
      "metadata": {
        "id": "o9_Z2bCpyWm1"
      },
      "execution_count": 2,
      "outputs": []
    },
    {
      "cell_type": "markdown",
      "source": [
        "## load dataset"
      ],
      "metadata": {
        "id": "HLxo1ZgwxHPG"
      }
    },
    {
      "cell_type": "code",
      "execution_count": 31,
      "metadata": {
        "colab": {
          "base_uri": "https://localhost:8080/",
          "height": 164
        },
        "id": "16N6SUoUXMM_",
        "outputId": "99d1bf4a-ed5b-4690-b52e-5114b3629e39"
      },
      "outputs": [
        {
          "output_type": "execute_result",
          "data": {
            "text/plain": [
              "         공급일자 요일  공급월  공급주차          회원번호 조합원상태 물품대분류 물품중분류  물품소분류  \\\n",
              "0  2018-01-02  화  1.0   1.0  2.723699e+08  정상회원    과실    과일     사과   \n",
              "1  2018-01-02  화  1.0   1.0  1.506656e+09  정상회원    채소    버섯  느타리버섯   \n",
              "\n",
              "           물품명  구매수량 주소-구  주소-동 성별    연령    연령대     구매금액 구매매장  반품_원거래일자   구매시각  \n",
              "0  사과/유(1.5kg)   1.0  수지구  풍덕천동  여  45.0    40대  22207.0  매장C       NaN  10:04  \n",
              "1  느타리버섯(300g)   1.0  수지구  풍덕천동  여  36.0  30대이하   4977.0  매장C       NaN  10:05  "
            ],
            "text/html": [
              "\n",
              "  <div id=\"df-af6e034a-e98c-45b9-b525-b549173d5068\" class=\"colab-df-container\">\n",
              "    <div>\n",
              "<style scoped>\n",
              "    .dataframe tbody tr th:only-of-type {\n",
              "        vertical-align: middle;\n",
              "    }\n",
              "\n",
              "    .dataframe tbody tr th {\n",
              "        vertical-align: top;\n",
              "    }\n",
              "\n",
              "    .dataframe thead th {\n",
              "        text-align: right;\n",
              "    }\n",
              "</style>\n",
              "<table border=\"1\" class=\"dataframe\">\n",
              "  <thead>\n",
              "    <tr style=\"text-align: right;\">\n",
              "      <th></th>\n",
              "      <th>공급일자</th>\n",
              "      <th>요일</th>\n",
              "      <th>공급월</th>\n",
              "      <th>공급주차</th>\n",
              "      <th>회원번호</th>\n",
              "      <th>조합원상태</th>\n",
              "      <th>물품대분류</th>\n",
              "      <th>물품중분류</th>\n",
              "      <th>물품소분류</th>\n",
              "      <th>물품명</th>\n",
              "      <th>구매수량</th>\n",
              "      <th>주소-구</th>\n",
              "      <th>주소-동</th>\n",
              "      <th>성별</th>\n",
              "      <th>연령</th>\n",
              "      <th>연령대</th>\n",
              "      <th>구매금액</th>\n",
              "      <th>구매매장</th>\n",
              "      <th>반품_원거래일자</th>\n",
              "      <th>구매시각</th>\n",
              "    </tr>\n",
              "  </thead>\n",
              "  <tbody>\n",
              "    <tr>\n",
              "      <th>0</th>\n",
              "      <td>2018-01-02</td>\n",
              "      <td>화</td>\n",
              "      <td>1.0</td>\n",
              "      <td>1.0</td>\n",
              "      <td>2.723699e+08</td>\n",
              "      <td>정상회원</td>\n",
              "      <td>과실</td>\n",
              "      <td>과일</td>\n",
              "      <td>사과</td>\n",
              "      <td>사과/유(1.5kg)</td>\n",
              "      <td>1.0</td>\n",
              "      <td>수지구</td>\n",
              "      <td>풍덕천동</td>\n",
              "      <td>여</td>\n",
              "      <td>45.0</td>\n",
              "      <td>40대</td>\n",
              "      <td>22207.0</td>\n",
              "      <td>매장C</td>\n",
              "      <td>NaN</td>\n",
              "      <td>10:04</td>\n",
              "    </tr>\n",
              "    <tr>\n",
              "      <th>1</th>\n",
              "      <td>2018-01-02</td>\n",
              "      <td>화</td>\n",
              "      <td>1.0</td>\n",
              "      <td>1.0</td>\n",
              "      <td>1.506656e+09</td>\n",
              "      <td>정상회원</td>\n",
              "      <td>채소</td>\n",
              "      <td>버섯</td>\n",
              "      <td>느타리버섯</td>\n",
              "      <td>느타리버섯(300g)</td>\n",
              "      <td>1.0</td>\n",
              "      <td>수지구</td>\n",
              "      <td>풍덕천동</td>\n",
              "      <td>여</td>\n",
              "      <td>36.0</td>\n",
              "      <td>30대이하</td>\n",
              "      <td>4977.0</td>\n",
              "      <td>매장C</td>\n",
              "      <td>NaN</td>\n",
              "      <td>10:05</td>\n",
              "    </tr>\n",
              "  </tbody>\n",
              "</table>\n",
              "</div>\n",
              "    <div class=\"colab-df-buttons\">\n",
              "\n",
              "  <div class=\"colab-df-container\">\n",
              "    <button class=\"colab-df-convert\" onclick=\"convertToInteractive('df-af6e034a-e98c-45b9-b525-b549173d5068')\"\n",
              "            title=\"Convert this dataframe to an interactive table.\"\n",
              "            style=\"display:none;\">\n",
              "\n",
              "  <svg xmlns=\"http://www.w3.org/2000/svg\" height=\"24px\" viewBox=\"0 -960 960 960\">\n",
              "    <path d=\"M120-120v-720h720v720H120Zm60-500h600v-160H180v160Zm220 220h160v-160H400v160Zm0 220h160v-160H400v160ZM180-400h160v-160H180v160Zm440 0h160v-160H620v160ZM180-180h160v-160H180v160Zm440 0h160v-160H620v160Z\"/>\n",
              "  </svg>\n",
              "    </button>\n",
              "\n",
              "  <style>\n",
              "    .colab-df-container {\n",
              "      display:flex;\n",
              "      gap: 12px;\n",
              "    }\n",
              "\n",
              "    .colab-df-convert {\n",
              "      background-color: #E8F0FE;\n",
              "      border: none;\n",
              "      border-radius: 50%;\n",
              "      cursor: pointer;\n",
              "      display: none;\n",
              "      fill: #1967D2;\n",
              "      height: 32px;\n",
              "      padding: 0 0 0 0;\n",
              "      width: 32px;\n",
              "    }\n",
              "\n",
              "    .colab-df-convert:hover {\n",
              "      background-color: #E2EBFA;\n",
              "      box-shadow: 0px 1px 2px rgba(60, 64, 67, 0.3), 0px 1px 3px 1px rgba(60, 64, 67, 0.15);\n",
              "      fill: #174EA6;\n",
              "    }\n",
              "\n",
              "    .colab-df-buttons div {\n",
              "      margin-bottom: 4px;\n",
              "    }\n",
              "\n",
              "    [theme=dark] .colab-df-convert {\n",
              "      background-color: #3B4455;\n",
              "      fill: #D2E3FC;\n",
              "    }\n",
              "\n",
              "    [theme=dark] .colab-df-convert:hover {\n",
              "      background-color: #434B5C;\n",
              "      box-shadow: 0px 1px 3px 1px rgba(0, 0, 0, 0.15);\n",
              "      filter: drop-shadow(0px 1px 2px rgba(0, 0, 0, 0.3));\n",
              "      fill: #FFFFFF;\n",
              "    }\n",
              "  </style>\n",
              "\n",
              "    <script>\n",
              "      const buttonEl =\n",
              "        document.querySelector('#df-af6e034a-e98c-45b9-b525-b549173d5068 button.colab-df-convert');\n",
              "      buttonEl.style.display =\n",
              "        google.colab.kernel.accessAllowed ? 'block' : 'none';\n",
              "\n",
              "      async function convertToInteractive(key) {\n",
              "        const element = document.querySelector('#df-af6e034a-e98c-45b9-b525-b549173d5068');\n",
              "        const dataTable =\n",
              "          await google.colab.kernel.invokeFunction('convertToInteractive',\n",
              "                                                    [key], {});\n",
              "        if (!dataTable) return;\n",
              "\n",
              "        const docLinkHtml = 'Like what you see? Visit the ' +\n",
              "          '<a target=\"_blank\" href=https://colab.research.google.com/notebooks/data_table.ipynb>data table notebook</a>'\n",
              "          + ' to learn more about interactive tables.';\n",
              "        element.innerHTML = '';\n",
              "        dataTable['output_type'] = 'display_data';\n",
              "        await google.colab.output.renderOutput(dataTable, element);\n",
              "        const docLink = document.createElement('div');\n",
              "        docLink.innerHTML = docLinkHtml;\n",
              "        element.appendChild(docLink);\n",
              "      }\n",
              "    </script>\n",
              "  </div>\n",
              "\n",
              "\n",
              "<div id=\"df-9e80f84f-c529-46e3-884b-fe1e27110842\">\n",
              "  <button class=\"colab-df-quickchart\" onclick=\"quickchart('df-9e80f84f-c529-46e3-884b-fe1e27110842')\"\n",
              "            title=\"Suggest charts\"\n",
              "            style=\"display:none;\">\n",
              "\n",
              "<svg xmlns=\"http://www.w3.org/2000/svg\" height=\"24px\"viewBox=\"0 0 24 24\"\n",
              "     width=\"24px\">\n",
              "    <g>\n",
              "        <path d=\"M19 3H5c-1.1 0-2 .9-2 2v14c0 1.1.9 2 2 2h14c1.1 0 2-.9 2-2V5c0-1.1-.9-2-2-2zM9 17H7v-7h2v7zm4 0h-2V7h2v10zm4 0h-2v-4h2v4z\"/>\n",
              "    </g>\n",
              "</svg>\n",
              "  </button>\n",
              "\n",
              "<style>\n",
              "  .colab-df-quickchart {\n",
              "      --bg-color: #E8F0FE;\n",
              "      --fill-color: #1967D2;\n",
              "      --hover-bg-color: #E2EBFA;\n",
              "      --hover-fill-color: #174EA6;\n",
              "      --disabled-fill-color: #AAA;\n",
              "      --disabled-bg-color: #DDD;\n",
              "  }\n",
              "\n",
              "  [theme=dark] .colab-df-quickchart {\n",
              "      --bg-color: #3B4455;\n",
              "      --fill-color: #D2E3FC;\n",
              "      --hover-bg-color: #434B5C;\n",
              "      --hover-fill-color: #FFFFFF;\n",
              "      --disabled-bg-color: #3B4455;\n",
              "      --disabled-fill-color: #666;\n",
              "  }\n",
              "\n",
              "  .colab-df-quickchart {\n",
              "    background-color: var(--bg-color);\n",
              "    border: none;\n",
              "    border-radius: 50%;\n",
              "    cursor: pointer;\n",
              "    display: none;\n",
              "    fill: var(--fill-color);\n",
              "    height: 32px;\n",
              "    padding: 0;\n",
              "    width: 32px;\n",
              "  }\n",
              "\n",
              "  .colab-df-quickchart:hover {\n",
              "    background-color: var(--hover-bg-color);\n",
              "    box-shadow: 0 1px 2px rgba(60, 64, 67, 0.3), 0 1px 3px 1px rgba(60, 64, 67, 0.15);\n",
              "    fill: var(--button-hover-fill-color);\n",
              "  }\n",
              "\n",
              "  .colab-df-quickchart-complete:disabled,\n",
              "  .colab-df-quickchart-complete:disabled:hover {\n",
              "    background-color: var(--disabled-bg-color);\n",
              "    fill: var(--disabled-fill-color);\n",
              "    box-shadow: none;\n",
              "  }\n",
              "\n",
              "  .colab-df-spinner {\n",
              "    border: 2px solid var(--fill-color);\n",
              "    border-color: transparent;\n",
              "    border-bottom-color: var(--fill-color);\n",
              "    animation:\n",
              "      spin 1s steps(1) infinite;\n",
              "  }\n",
              "\n",
              "  @keyframes spin {\n",
              "    0% {\n",
              "      border-color: transparent;\n",
              "      border-bottom-color: var(--fill-color);\n",
              "      border-left-color: var(--fill-color);\n",
              "    }\n",
              "    20% {\n",
              "      border-color: transparent;\n",
              "      border-left-color: var(--fill-color);\n",
              "      border-top-color: var(--fill-color);\n",
              "    }\n",
              "    30% {\n",
              "      border-color: transparent;\n",
              "      border-left-color: var(--fill-color);\n",
              "      border-top-color: var(--fill-color);\n",
              "      border-right-color: var(--fill-color);\n",
              "    }\n",
              "    40% {\n",
              "      border-color: transparent;\n",
              "      border-right-color: var(--fill-color);\n",
              "      border-top-color: var(--fill-color);\n",
              "    }\n",
              "    60% {\n",
              "      border-color: transparent;\n",
              "      border-right-color: var(--fill-color);\n",
              "    }\n",
              "    80% {\n",
              "      border-color: transparent;\n",
              "      border-right-color: var(--fill-color);\n",
              "      border-bottom-color: var(--fill-color);\n",
              "    }\n",
              "    90% {\n",
              "      border-color: transparent;\n",
              "      border-bottom-color: var(--fill-color);\n",
              "    }\n",
              "  }\n",
              "</style>\n",
              "\n",
              "  <script>\n",
              "    async function quickchart(key) {\n",
              "      const quickchartButtonEl =\n",
              "        document.querySelector('#' + key + ' button');\n",
              "      quickchartButtonEl.disabled = true;  // To prevent multiple clicks.\n",
              "      quickchartButtonEl.classList.add('colab-df-spinner');\n",
              "      try {\n",
              "        const charts = await google.colab.kernel.invokeFunction(\n",
              "            'suggestCharts', [key], {});\n",
              "      } catch (error) {\n",
              "        console.error('Error during call to suggestCharts:', error);\n",
              "      }\n",
              "      quickchartButtonEl.classList.remove('colab-df-spinner');\n",
              "      quickchartButtonEl.classList.add('colab-df-quickchart-complete');\n",
              "    }\n",
              "    (() => {\n",
              "      let quickchartButtonEl =\n",
              "        document.querySelector('#df-9e80f84f-c529-46e3-884b-fe1e27110842 button');\n",
              "      quickchartButtonEl.style.display =\n",
              "        google.colab.kernel.accessAllowed ? 'block' : 'none';\n",
              "    })();\n",
              "  </script>\n",
              "</div>\n",
              "\n",
              "    </div>\n",
              "  </div>\n"
            ]
          },
          "metadata": {},
          "execution_count": 31
        }
      ],
      "source": [
        "import pandas as pd\n",
        "df_sales = pd.read_csv('fruitstore_saleshistory.csv')\n",
        "df_sales[:2]"
      ]
    },
    {
      "cell_type": "markdown",
      "source": [
        "## 범주형 / 연속형 : 범주형에 따른 관계 확인"
      ],
      "metadata": {
        "id": "yRx--1bGCSrs"
      }
    },
    {
      "cell_type": "markdown",
      "source": [
        "### 연속형이 정규 분포이고, 등분산 일 때"
      ],
      "metadata": {
        "id": "gm_rtWomDpIk"
      }
    },
    {
      "cell_type": "markdown",
      "source": [
        "### 예제 가설 : 물품중분류, 구매금액 (정규분포)\n",
        "- 분석 내용 : 각 과일 종류(범주형)별 평균 판매 금액(연속형)에 차이가 있는가?\n",
        " + 귀무 가설 : 각 과일 종류별 평균 판매 금액에 차이가 없다.\n",
        " + 대립 가설 : 각 과일 종류별 평균 판매 금액에 차이가 있다."
      ],
      "metadata": {
        "id": "4doqAtGaDsYs"
      }
    },
    {
      "cell_type": "markdown",
      "source": [
        "### 등분산 검증(levene)"
      ],
      "metadata": {
        "id": "mtzES2tqHrCM"
      }
    },
    {
      "cell_type": "code",
      "source": [
        "df_sales_fruit = df_sales[df_sales['물품중분류']==\"과일\"]\n",
        "fruit_list = df_sales_fruit['물품소분류'].unique()\n",
        "fruit_list"
      ],
      "metadata": {
        "colab": {
          "base_uri": "https://localhost:8080/"
        },
        "id": "A6v3x8UdCTBj",
        "outputId": "32d4600a-3cc1-43f9-9471-411ef2a3fbc1"
      },
      "execution_count": 36,
      "outputs": [
        {
          "output_type": "execute_result",
          "data": {
            "text/plain": [
              "array(['사과', '건대추', '귤(조생)', '배', '산딸기', '단감', '참다래', '레몬', '블루베리', '곶감',\n",
              "       '귤만감', '냉동건조과일', '홍시용감(대봉)'], dtype=object)"
            ]
          },
          "metadata": {},
          "execution_count": 36
        }
      ]
    },
    {
      "cell_type": "code",
      "source": [
        "df_sales_mean_fruit = df_sales_fruit.groupby('물품소분류')['구매금액'] # 과일 종류별 평균 판매금액\n",
        "df_sales_mean_fruit"
      ],
      "metadata": {
        "colab": {
          "base_uri": "https://localhost:8080/"
        },
        "id": "AWRGgRAVElHr",
        "outputId": "96c6910a-b3b8-434a-a28d-674b40120a90"
      },
      "execution_count": 37,
      "outputs": [
        {
          "output_type": "execute_result",
          "data": {
            "text/plain": [
              "<pandas.core.groupby.generic.SeriesGroupBy object at 0x7955bee0faf0>"
            ]
          },
          "metadata": {},
          "execution_count": 37
        }
      ]
    },
    {
      "cell_type": "markdown",
      "source": [
        "#### ANOVA TEST(f_oneway) : 범주형 3집단 이상\n",
        "- 연속형이 '정규분포'이면서 범주형에 따른 항목이 '등분산', 그리고 항목 개수가 3개 이상"
      ],
      "metadata": {
        "id": "ZocoaiY_JXdE"
      }
    },
    {
      "cell_type": "code",
      "source": [
        "series_list = list()  # list 초기화\n",
        "for fruit in fruit_list:\n",
        "  condition = f'물품소분류 == \"{fruit}\"'   # 앞의 물품소분류 : 데이터 프레임 column의 채널    # f{fruit} : 변수로 인지\n",
        "  series_amount = df_sales_fruit.query(condition)['구매금액'].dropna()   # condition에 따른 '구매금액' series 작성  # dropna : 결측치 제거\n",
        "  series_list.append(series_amount)\n",
        "series_list[1].iloc[:5]   # series_list의 인덱스1, 즉 2번째 항목(홈쇼핑/방송)에 대한 5개까지 출력"
      ],
      "metadata": {
        "colab": {
          "base_uri": "https://localhost:8080/"
        },
        "id": "GqbZ_M90JXyT",
        "outputId": "ac744312-9b5f-45f4-eb7c-1b1a63f7f1b7"
      },
      "execution_count": 38,
      "outputs": [
        {
          "output_type": "execute_result",
          "data": {
            "text/plain": [
              "62      22973.0\n",
              "3066    22973.0\n",
              "3866    22973.0\n",
              "4515    22973.0\n",
              "4763    22973.0\n",
              "Name: 구매금액, dtype: float64"
            ]
          },
          "metadata": {},
          "execution_count": 38
        }
      ]
    },
    {
      "cell_type": "code",
      "source": [
        "import scipy.stats as stats\n",
        "stats.f_oneway(*series_list)   # series 일떄 * 1개 부여하면, list 전체 넘어감"
      ],
      "metadata": {
        "colab": {
          "base_uri": "https://localhost:8080/"
        },
        "id": "aWnI0k0uNwL7",
        "outputId": "06c9e3d6-4ef1-4c39-8445-1d3fe66c3cd8"
      },
      "execution_count": 39,
      "outputs": [
        {
          "output_type": "execute_result",
          "data": {
            "text/plain": [
              "F_onewayResult(statistic=6.65988663849486, pvalue=2.640715984250167e-11)"
            ]
          },
          "metadata": {},
          "execution_count": 39
        }
      ]
    },
    {
      "cell_type": "markdown",
      "source": [
        "e는 지수를 나타내는 기호로, '10의 거듭제곱'을 의미합니다. 따라서 e-11은 '10의 -11제곱'을 나타냅니다.\n",
        "\n",
        "2.640715984250167e-11은 2.640715984250167 * 10^-11로 해석됩니다. 즉, 2.640715984250167를 10의 -11제곱만큼 곱한 값입니다."
      ],
      "metadata": {
        "id": "H1nKDcUqW0bb"
      }
    },
    {
      "cell_type": "markdown",
      "source": [
        "ANOVA는 귀무가설(H0)과 대립가설(H1)을 설정하여 가설검정을 수행합니다.\n",
        "\n",
        "+ 귀무가설: 모든 그룹의 평균은 동일하다.\n",
        "+ 대립가설: 적어도 한 그룹의 평균은 다른 그룹과 다르다.\n",
        "\n",
        "ANOVA는 F-통계량을 계산하여 이 가설들을 검정합니다. F-통계량은 그룹 간 분산(그룹의 평균들 사이의 차이를 측정)을 그룹 내 분산(각 그룹 내의 개별 관측값들이 그룹의 평균으로부터 얼마나 떨어져 있는지 측정)으로 나눈 값입니다. 그룹 간 분산이 그룹 내 분산보다 크면 F-통계량은 1보다 크고, 그룹의 평균들 사이에 차이가 있다는 증거가 됩니다.\n",
        "\n",
        "p-value는 귀무가설 하에서 현재 관측된 통계치와 같거나 더 극단적인 통계치가 관찰될 확률을 나타냅니다. p-value가 특정 임계값(일반적으로 0.05)보다 작으면 귀무가설을 기각하고 대립가설을 수용합니다. 즉, 적어도 한 그룹의 평균은 다른 그룹과 다르다는 결론을 내립니다.\n",
        "\n",
        "여기서 주어진 F-통계량 값은 약 6.66이고, p-value는 약 2.64e-11입니다. 이 p-value는 매우 작은 값으로, 0.05보다 훨씬 작습니다. 따라서 이 경우에는 귀무가설을 기각하고, 적어도 한 종류의 과일의 평균 판매 금액이 다른 종류의 과일과 다르다는 결론을 내릴 수 있습니다."
      ],
      "metadata": {
        "id": "eWJSd3w2XljL"
      }
    },
    {
      "cell_type": "code",
      "source": [
        "round(2.640715984250167e-11, 6)"
      ],
      "metadata": {
        "colab": {
          "base_uri": "https://localhost:8080/"
        },
        "id": "O-hRib8ON8bi",
        "outputId": "6b313f2f-84bd-4108-e24b-0d14dfca5438"
      },
      "execution_count": 40,
      "outputs": [
        {
          "output_type": "execute_result",
          "data": {
            "text/plain": [
              "0.0"
            ]
          },
          "metadata": {},
          "execution_count": 40
        }
      ]
    },
    {
      "cell_type": "markdown",
      "source": [
        "round() 함수는 파이썬에서 제공하는 내장 함수로, 특정 숫자를 반올림하는데 사용됩니다. round() 함수는 두 개의 매개변수를 받을 수 있습니다.\n",
        "\n",
        "첫 번째 매개변수는 반올림할 숫자입니다.\n",
        "두 번째 매개변수는 선택적이며, 반올림할 소수점 이하의 자릿수를 지정합니다. 이 매개변수가 생략되면, 입력된 숫자는 가장 가까운 정수로 반올림됩니다.\n",
        "예를 들어, round(2.640715984250167e-11, 6)은 숫자 2.640715984250167e-11를 소수점 아래 6자리까지 반올림한 결과를 반환합니다. 따라서 이 함수의 결과는 0.000000이 될 것입니다.\n",
        "\n",
        "이는 2.640715984250167e-11이 매우 작은 수이기 때문에 소수점 아래 6자리에서 반올림하면 0.000000이 나오기 때문입니다."
      ],
      "metadata": {
        "id": "H-3o59qGXDjG"
      }
    },
    {
      "cell_type": "markdown",
      "source": [
        "ANOVA 테스트의 결과는 F 통계량과 p-value 두 가지를 제공합니다.\n",
        "\n",
        "F 통계량(statistic=6.65988663849486): 이것은 그룹 간의 분산(평균 간 차이)이 그룹 내 분산(각 그룹 내에서의 개별 관측치와 그룹 평균 간의 차이)에 비해 얼마나 큰지를 측정하는 값입니다. F 통계량이 크면 클수록 그룹 간의 평균 차이가 크다는 것을 나타냅니다. 여기서 F 통계량이 6.66이므로, 이는 그룹 간의 평균 차이가 그룹 내에서의 변동성에 비해 상대적으로 크다는 것을 나타냅니다.\n",
        "p-value(pvalue=2.640715984250167e-11): p-value는 귀무가설(모든 그룹의 평균이 동일하다) 하에서 현재 관측된 통계치와 같거나 더 극단적인 통계치가 관찰될 확률을 나타냅니다. 일반적으로 p-value가 0.05 미만이면 귀무가설을 기각하고, 대립가설(적어도 한 그룹의 평균은 다르다)을 수용합니다. 여기서 p-value는 2.64e-11로, 이는 0.05보다 훨씬 작은 값입니다. 따라서 귀무가설을 기각하고, 대립가설을 수용합니다.\n",
        "따라서 이 ANOVA 테스트 결과를 통해 '각 과일 종류별 평균 판매 금액에는 통계적으로 유의미한 차이가 있다'는 결론을 내릴 수 있습니다. 즉, 과일 종류에 따라 평균 판매 금액이 다르다는 가설이 데이터에 부합한다는 것을 알 수 있습니다."
      ],
      "metadata": {
        "id": "oQTw12vrWfkk"
      }
    },
    {
      "cell_type": "markdown",
      "source": [
        "# 분석 결과\n",
        " - 통계 결론 : 귀무 가설 기각, 대립 가설 성립\n",
        " - 사실 결론 : 정확한 수치는 확실하지 않지만, 각 과일 종류별 평균 판매 금액에 유의미한 차이가 있다."
      ],
      "metadata": {
        "id": "biRA5pLHSgXb"
      }
    }
  ]
}